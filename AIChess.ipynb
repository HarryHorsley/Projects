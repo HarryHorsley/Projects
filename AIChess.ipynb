{
  "cells": [
    {
      "metadata": {},
      "cell_type": "markdown",
      "source": "# Instructions\n\nRun each cell one at a time by pressing the 'run' button above, or shift+enter when the cursor is in the cell."
    },
    {
      "metadata": {
        "collapsed": true
      },
      "cell_type": "markdown",
      "source": "First we install the PyChess library - \n\"python-chess is a pure Python chess library with move generation, move validation and support for common formats\"\n\nAs well as some other needed functions."
    },
    {
      "metadata": {
        "trusted": true
      },
      "cell_type": "code",
      "source": "#PyChess library installation\nimport sys\n!{sys.executable} -m pip install python-chess\n\n#Import needed functions/libraries\nimport chess\nimport random\nimport chess.svg as render\nimport time",
      "execution_count": 24,
      "outputs": [
        {
          "output_type": "stream",
          "text": "Requirement already satisfied: python-chess in /home/nbuser/anaconda3_420/lib/python3.5/site-packages (0.29.0)\r\n",
          "name": "stdout"
        }
      ]
    },
    {
      "metadata": {},
      "cell_type": "markdown",
      "source": "We can now use the data structures from this library to create the 'search' and 'evaluation' functions required to generate moves. We will do this in 4 demonstration stages.\n\n1. <b>Random moves</b> - random moves made from a list of legal moves\n\n2. **Best move available** - the move that maximises the board evaluation, with little foresight as to what will happen next.\n\n3. <b>Minimax algorithm</b> - algorithm minimises or maximises the moves at each layer of the potential 'move tree' up until a specified depth. For this we will need a function to evaluate the board and the minmax algorithm (move search) algorithm.\n\n4. <b>Minimax algorithm with alpha-beta pruning</b> - similar to above however the algorithm 'prunes' the sections of the move tree which will never be taken as it is already worse than another section of the tree. This cuts down on computing and thus allows for deeper search for the same computing time."
    },
    {
      "metadata": {},
      "cell_type": "markdown",
      "source": "Let us now create some functions to display the board and input our moves."
    },
    {
      "metadata": {
        "trusted": true
      },
      "cell_type": "code",
      "source": "def human_input(board):\n    \"\"\" Allows human input by typing in the desired move in UCI protocol.\"\"\"\n    input_move = input(\"State your move: \")\n    \n    promotion_input_move = input_move + \"q\"\n    \n    first_choice = chess.Move.from_uci(promotion_input_move)\n    \n    second_choice = chess.Move.from_uci(input_move)\n    \n    move_list = [] \n    for move in board.legal_moves:\n        move_list.append(move)\n    \n    if first_choice in move_list:\n        board.push(first_choice)\n    \n    elif second_choice in move_list:\n        board.push(second_choice)\n    \n    else:\n        print(\"Invalid move\")\n        human_input(board)\n    \ndef game_over(board):\n    \"\"\"Returns True if board is in a finished state.\"\"\"\n    return chess.Board.is_game_over(board)\n\nprint(\"Cell has been run.\")",
      "execution_count": 13,
      "outputs": [
        {
          "output_type": "stream",
          "text": "Cell has been run.\n",
          "name": "stdout"
        }
      ]
    },
    {
      "metadata": {},
      "cell_type": "markdown",
      "source": "Random move generation is fairly simple:"
    },
    {
      "metadata": {
        "trusted": true
      },
      "cell_type": "code",
      "source": "def make_random_move(board):\n    \"\"\"Makes a random move on the board that is input. Returns nothing.\"\"\"\n    move_list = []\n    for move in board.legal_moves:\n        move_list.append(move)\n    move = random.choice(move_list)\n    board.push(move)\n\ndef play_random_comp_v_comp(board):\n    \"\"\"Pits computer vs computer in a randomly chosen move game.\n    Recursive function to allow only one move at a time so that the game can be followed easily.\"\"\"\n    if game_over(board) == True:\n        print(\"Game is over.\")\n        print(chess.Board.result(board))\n        return\n    make_random_move(board)\n    display(board)\n    enter = input(\"Press enter for the next move...\")\n    play_random_comp_v_comp(board)\n\ndef play_random_human_v_comp(board):\n    \"\"\"Pits human vs computer in a randomly chosen move game.\n    Recursive function to allow only one move at a time so that the game can be followed easily.\"\"\"\n    if game_over(board) == True:\n        print(\"Game is over.\")\n        print(chess.Board.result(board))\n        return\n    human_input(board)\n    display(board)\n    make_random_move(board)\n    display(board)\n    play_random_human_v_comp(board)\n\nprint(\"Cell has been run.\")",
      "execution_count": 23,
      "outputs": [
        {
          "output_type": "stream",
          "text": "Cell has been run.\n",
          "name": "stdout"
        }
      ]
    },
    {
      "metadata": {},
      "cell_type": "markdown",
      "source": "# <b>Demonstration.</b>  \nComputer vs Computer. To rerun the cell, stop it first then run again."
    },
    {
      "metadata": {
        "trusted": true
      },
      "cell_type": "code",
      "source": "board = chess.Board()\ndisplay(board)\n\nplay_random_comp_v_comp(board)",
      "execution_count": null,
      "outputs": []
    },
    {
      "metadata": {
        "trusted": true
      },
      "cell_type": "markdown",
      "source": "# <b>Demonstration.</b> \nHuman vs Computer. When asked for human input, simply write the square you want to move from followed by the square you want to move to. E.g. c2c4 will move the c2 pawn to c4 etc"
    },
    {
      "metadata": {
        "trusted": true
      },
      "cell_type": "code",
      "source": "board = chess.Board()\ndisplay(board)\n\nplay_random_human_v_comp(board)",
      "execution_count": null,
      "outputs": []
    },
    {
      "metadata": {
        "trusted": true
      },
      "cell_type": "markdown",
      "source": "It is quite awful at chess. We will now integrate some chess strategy into the choice of move through a simple evaluation function. This just runs through the board and adds, if it is the players piece, or subtracts, if the opposition's, the piece value to a total. We will make the computer pick the move the maximises its board evaluation."
    },
    {
      "metadata": {
        "trusted": true
      },
      "cell_type": "code",
      "source": "def piece_value(piece = int):\n    \"\"\"Assigns a value to each type of piece. 1 - Pawn, 2 - Bishop, 3 - Knight, 4 - Rook, 5 - Queen, 6 - King.\n    These representations are from the PyChess documentation.\"\"\"\n    if piece == 1:\n        return 100\n    elif piece == 2:\n        return 350\n    elif piece == 3:\n        return 350\n    elif piece == 4:\n        return 525\n    elif piece == 5:\n        return 1000\n    elif piece == 6:\n        return 10000\n    else:\n        return 0        #When there is no piece at that square\n    \ndef evaluate_board(board,player_colour = bool):\n    \"\"\"Evaluates the board by running over every square and adding the piece value if it is the player_colour,\n    and subtracting if not. Returns the aggregate value.\"\"\"\n    \n    value = 0\n    \n    for square_num in range(0,64):\n        \n        piece_type = chess.Board.piece_type_at(board,square_num)\n        \n        piece_colour = chess.Board.color_at(board,square_num)\n        \n        if player_colour == piece_colour:\n            value += piece_value(piece_type)\n        else:\n            value -= piece_value(piece_type)\n            \n    return value\n\ndef calculate_best_move(board,player_colour= bool):\n    \"\"\"Runs through a list of possible moves and RETURNS the move that increases the board evaluation the most.\n    If two or more moves give the same evaluation, a random move is chosen.\"\"\"\n    \n    possible_move_list = []\n    for move in board.legal_moves:\n        possible_move_list.append(move)\n    \n    random.shuffle(possible_move_list)  #randomises move choice so the same situation will give rise to different consecutive moves if there is an equal evaluation\n        \n    best_move = None    \n    \n    current_best_evaluation = float(\"-inf\")\n    \n    for move in possible_move_list:\n        \n        board.push(move)\n                \n        new_evaluation = evaluate_board(board,player_colour)\n        \n        if new_evaluation >= current_best_evaluation:\n            \n            best_move = move\n            \n            current_best_evaluation = new_evaluation\n            \n            board.pop()\n        \n        else:\n            \n            board.pop()\n            \n    return best_move\n\ndef play_computer_v_computer_oneeval(board):\n    \"\"\"Pits computer against computer in this max evaluation game. Also allows for one move at a time.\"\"\"\n    if game_over(board) == True:\n        print(\"Game is over.\")\n        print(chess.Board.result(board))\n        return\n    board.push(calculate_best_move(board,True))\n    display(board)\n    enter = input(\"Press enter for the next move...\")\n    play_computer_v_computer_oneeval(board) \n    \nprint(\"Cell has been run.\")",
      "execution_count": 22,
      "outputs": [
        {
          "output_type": "stream",
          "text": "Cell has been run.\n",
          "name": "stdout"
        }
      ]
    },
    {
      "metadata": {
        "trusted": true
      },
      "cell_type": "markdown",
      "source": "# **Demonstration.**"
    },
    {
      "metadata": {
        "trusted": true
      },
      "cell_type": "code",
      "source": "board = chess.Board()\ndisplay(board)\n\nplay_computer_v_computer_oneeval(board)",
      "execution_count": null,
      "outputs": []
    },
    {
      "metadata": {
        "trusted": true
      },
      "cell_type": "markdown",
      "source": "Now to improve the 'intelligence' of the computer we will employ a minimax algorithm."
    },
    {
      "metadata": {
        "trusted": true
      },
      "cell_type": "code",
      "source": "def minimax(board, player_maximising, is_max_turn, depth=2):\n    \"\"\"Searches for the best possible move for a given search depth. It returns the board evaluation \n    and move to be pushed to the board.\"\"\"\n    \n    #Once we've hit 0, we can stop\n    \n    if depth == 0:\n        \n        return evaluate_board(board,player_maximising), None\n    \n    best_value = float(\"-inf\") if is_max_turn else float(\"inf\")\n    \n    best_move = None\n    \n    possible_move_list = []\n    for move in board.legal_moves:\n        possible_move_list.append(move)\n    random.shuffle(possible_move_list)\n    \n    for move in possible_move_list:\n        \n        board.push(move)\n        \n        current_eval, current_move = minimax(board, depth-1, player_maximising, not is_max_turn)\n        \n        if is_max_turn and best_value < current_eval:  #if it is the max players turn, maximise the value\n            \n            best_value = current_eval\n            \n            best_move = move\n        \n        elif is_max_turn == False and best_value > current_eval:                #If min players turn, minimise the value\n            \n            best_value = current_eval\n            \n            best_move = move\n            \n        board.pop()\n    \n    return best_value, best_move\n\ndef play_comp_v_comp_minimax(board,depth):\n    \"\"\"Pits computer v computer using the minimax algorithm.\"\"\"\n        if game_over(board) == True:\n            print(\"Game is over.\")\n            print(chess.Board.result(board))\n            return\n        value, move = minimax(board,True,True,depth=depth)    #Player colour is a bool, True = White\n        board.push(move)\n        display(board)\n        \n        enter = input(\"Press enter for the next move...\")\n        \n        if game_over(board) == True:\n            print(\"Game is over.\")\n            print(chess.Board.result(board))\n            return\n        \n        value, move = minimax(board,False,True,depth=depth)\n        board.push(move)\n        display(board)\n        \n        enter = input(\"Press enter for the next move...\")\n        \n        play_comp_v_comp_minimax(board,depth)\n\nprint(\"Cell has been run.\")",
      "execution_count": 25,
      "outputs": [
        {
          "output_type": "stream",
          "text": "Cell has been run.\n",
          "name": "stdout"
        }
      ]
    },
    {
      "metadata": {},
      "cell_type": "markdown",
      "source": "# **Demonstration.** \nThe depth can be changed, the deeper it searches the longer the computing time but the better the chess intelligence."
    },
    {
      "metadata": {
        "trusted": true
      },
      "cell_type": "code",
      "source": "board = chess.Board()\ndisplay(board)\n\ndepth = 3\n\nplay_comp_v_comp_minimax(board,depth)",
      "execution_count": null,
      "outputs": []
    },
    {
      "metadata": {
        "trusted": true
      },
      "cell_type": "markdown",
      "source": "Now with alpha-beta pruning we will be able to get deeper for the same computational cost."
    },
    {
      "metadata": {
        "trusted": true
      },
      "cell_type": "code",
      "source": "def minimax_alphabeta(board, depth = int, player_maximising = bool, alpha = float(\"-inf\"), beta = float(\"inf\"), is_max_turn = True):\n    \"\"\"Uses minimax search algorithm with alpha beta pruning to cut sections of the move tree that will \n    never be chosen as a better move has already been found. RETURNS the best move value and best move.\"\"\"\n    #Once we've hit 0, we can stop\n    \n    if depth == 0:\n        \n        return evaluate_board(board,player_maximising), None\n    \n    best_value = float(\"-inf\") if is_max_turn else float(\"inf\")\n    \n    best_move = None\n    \n    possible_move_list = []\n    for move in board.legal_moves:\n        possible_move_list.append(move)\n    random.shuffle(possible_move_list)\n    \n    for move in possible_move_list:\n        \n        board.push(move)\n        \n        current_eval, current_move = minimax_alphabeta(board, depth-1, player_maximising, alpha, beta, not is_max_turn)\n        \n        if is_max_turn and best_value < current_eval:  #if it is the max players turn, maximise the value\n            \n            best_value = current_eval\n            \n            best_move = move\n            \n            alpha = max(alpha, best_value)\n            \n            if beta <= alpha:\n                \n                board.pop()\n                \n                break\n        \n        elif is_max_turn == False and best_value > current_eval:                #If min players turn, minimise the value\n            \n            best_value = current_eval\n            \n            best_move = move\n            \n            beta = min(beta,best_value)\n            \n            if beta <= alpha:\n                \n                board.pop()\n                \n                break\n            \n        board.pop()\n    \n    return best_value, best_move\n\ndef play_comp_v_comp_minimax_alphabeta(board,depth=4):\n        \"\"\"Pits computer v computer using the minimax algorithm with alpha beta pruning\"\"\"\n        if game_over(board) == True:\n            print(\"Game is over.\")\n            print(chess.Board.result(board))\n            return\n        value,move = minimax_alphabeta(board,depth,True)\n        board.push(move)\n        display(board)\n        \n        enter = input(\"Press enter for the next move...\")\n        \n        if game_over(board) == True:\n            print(\"Game is over.\")\n            print(chess.Board.result(board))\n            return\n        \n        value, move = minimax_alphabeta(board,depth,False)\n        board.push(move)\n        display(board)\n        \n        enter = input(\"Press enter for the next move...\")\n        \n        play_comp_v_comp_minimax_alphabeta(board,depth)\n        \nprint(\"Cell has been run.\")",
      "execution_count": 29,
      "outputs": [
        {
          "output_type": "stream",
          "text": "Cell has been run.\n",
          "name": "stdout"
        }
      ]
    },
    {
      "metadata": {},
      "cell_type": "markdown",
      "source": "# Demonstration.\n\nFinally has some chess intelligence and plays a very equal game against itself. It stills struggles with end game move progressions which generally require more thought than 4 moves ahead. For example, in a rook ending the rooks move round them board to different positions with little idea what to do. Having said that, many humans are the same!"
    },
    {
      "metadata": {
        "trusted": true
      },
      "cell_type": "code",
      "source": "board = chess.Board()\ndisplay(board)\n\ndepth = 4\n\nplay_comp_v_comp_minimax_alphabeta(board,depth)",
      "execution_count": null,
      "outputs": []
    },
    {
      "metadata": {},
      "cell_type": "markdown",
      "source": "# Possible future improvements\n\n1. **GUI**\n\nInterfacing with the current set up wouldn't enjoyable if you actually wanted to play a game. We would need a way to use the mouse to drag pieces. One way of doing this is to integrate a well known chess gui such as XBoard or UCI using the protocols that PyChess employs. I could also create the data structures for the chess pieces and rules myself which would make it easier to set up an interface with pygame. This would be much more work, however, to obtain the same functionality as PyChess.\n\n2. **Search algorithm**\n\nTo improve the eficiency of the pruning we could order the moves such that the more likely to be 'better' moves are evaluated first, such as pawn take moves. Particularly ordering the moves near to first move as it is relatively cheaper to sort these than the exponentially increasing number of moves deeper into the move tree.\n\n3. **Evaluation**\n\nWe could also improve the evaluation algorithm. Firstly, by adding in extra value for pieces in certain positions. For isntance, having pieces in the middle of the board is beneficial. Particularly knights and pawns. We could also add in different evaluations for different parts of the game. A bishop in the end game is far more valuable than beginning/middle game.\n\n4. **Move analysis**\n\nCould also incorporate move analysis from an exiting chess engine such as stockfish. Could do a game analysis at the end of a game. The core of the intelligence though will remain as I made it, it could just be a way of quantifying how good the intelligence is compared to professional engines."
    }
  ],
  "metadata": {
    "kernelspec": {
      "name": "python3",
      "display_name": "Python 3",
      "language": "python"
    },
    "language_info": {
      "mimetype": "text/x-python",
      "nbconvert_exporter": "python",
      "name": "python",
      "file_extension": ".py",
      "version": "3.5.4",
      "pygments_lexer": "ipython3",
      "codemirror_mode": {
        "version": 3,
        "name": "ipython"
      }
    }
  },
  "nbformat": 4,
  "nbformat_minor": 2
}